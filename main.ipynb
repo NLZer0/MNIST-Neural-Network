{
 "cells": [
  {
   "cell_type": "code",
   "execution_count": 33,
   "id": "9515c5b6",
   "metadata": {},
   "outputs": [],
   "source": [
    "import numpy as np\n",
    "from keras.datasets import mnist"
   ]
  },
  {
   "cell_type": "code",
   "execution_count": 34,
   "id": "5c157a9f",
   "metadata": {},
   "outputs": [],
   "source": [
    "(x_train, y_train), (x_test, y_test) = mnist.load_data()"
   ]
  },
  {
   "cell_type": "code",
   "execution_count": 35,
   "id": "41eab7d0",
   "metadata": {},
   "outputs": [
    {
     "data": {
      "text/plain": [
       "(60000, 28, 28)"
      ]
     },
     "execution_count": 35,
     "metadata": {},
     "output_type": "execute_result"
    }
   ],
   "source": [
    "x_train.shape"
   ]
  },
  {
   "cell_type": "code",
   "execution_count": 36,
   "id": "b75bf4d8",
   "metadata": {},
   "outputs": [],
   "source": [
    "images = x_train[:1000].reshape(1000, 28*28)\n",
    "labels = y_train[0:1000].reshape(1000,1)"
   ]
  },
  {
   "cell_type": "code",
   "execution_count": 37,
   "id": "1efe4479",
   "metadata": {},
   "outputs": [],
   "source": [
    "mean_x = np.mean(images)\n",
    "std = np.sum(images**2)/(images.shape[0]-1)"
   ]
  },
  {
   "cell_type": "code",
   "execution_count": 38,
   "id": "143a39f6",
   "metadata": {},
   "outputs": [
    {
     "data": {
      "text/plain": [
       "array([[-0.00310983, -0.00310983, -0.00310983, ..., -0.00310983,\n",
       "        -0.00310983, -0.00310983],\n",
       "       [-0.00310983, -0.00310983, -0.00310983, ..., -0.00310983,\n",
       "        -0.00310983, -0.00310983],\n",
       "       [-0.00310983, -0.00310983, -0.00310983, ..., -0.00310983,\n",
       "        -0.00310983, -0.00310983],\n",
       "       ...,\n",
       "       [-0.00310983, -0.00310983, -0.00310983, ..., -0.00310983,\n",
       "        -0.00310983, -0.00310983],\n",
       "       [-0.00310983, -0.00310983, -0.00310983, ..., -0.00310983,\n",
       "        -0.00310983, -0.00310983],\n",
       "       [-0.00310983, -0.00310983, -0.00310983, ..., -0.00310983,\n",
       "        -0.00310983, -0.00310983]])"
      ]
     },
     "execution_count": 38,
     "metadata": {},
     "output_type": "execute_result"
    }
   ],
   "source": [
    "images = (images - mean_x)/std\n",
    "images"
   ]
  },
  {
   "cell_type": "code",
   "execution_count": 39,
   "id": "576f7129",
   "metadata": {},
   "outputs": [],
   "source": [
    "from neural_network import NeuralNetwork"
   ]
  },
  {
   "cell_type": "code",
   "execution_count": 56,
   "id": "a7e1eeb1",
   "metadata": {},
   "outputs": [],
   "source": [
    "count_of_features = images.shape[1]\n",
    "count_classes = 10\n",
    "batch_size = 200\n",
    "learing_rate = 0.001"
   ]
  },
  {
   "cell_type": "code",
   "execution_count": 57,
   "id": "feb27978",
   "metadata": {},
   "outputs": [],
   "source": [
    "nn = NeuralNetwork()"
   ]
  },
  {
   "cell_type": "code",
   "execution_count": 58,
   "id": "1012cd84",
   "metadata": {},
   "outputs": [],
   "source": [
    "nn.CreateLayerRelu((count_of_features, 1000))\n",
    "nn.CreateLayerRelu((1000, 500))\n",
    "nn.CreateLayerLinear((500, count_classes))"
   ]
  },
  {
   "cell_type": "code",
   "execution_count": 62,
   "id": "b5b22642",
   "metadata": {},
   "outputs": [
    {
     "name": "stdout",
     "output_type": "stream",
     "text": [
      "22.634909618401572\n",
      "13.813140518849655\n",
      "7.9989119107853295\n",
      "5.264154721438031\n",
      "5.0216904766404085\n",
      "3.655061454447534\n",
      "3.2841105326954994\n",
      "3.5816382804242863\n",
      "3.147557574474125\n",
      "1.8707036019439738\n"
     ]
    }
   ],
   "source": [
    "epochs = 10\n",
    "for it in range(epochs):\n",
    "    batch_indexes = np.random.randint(0, images.shape[0], batch_size)\n",
    "    batch_X = images[batch_indexes]\n",
    "    batch_y = labels[batch_indexes]\n",
    "    output = nn.forward(batch_X)\n",
    "    prediction = nn.softmax(output)\n",
    "    loss = nn.CrossEntropyLoss(prediction, batch_y)\n",
    "    nn.backward(learing_rate)\n",
    "    print(loss)"
   ]
  },
  {
   "cell_type": "code",
   "execution_count": null,
   "id": "6e88ed90",
   "metadata": {},
   "outputs": [],
   "source": []
  }
 ],
 "metadata": {
  "interpreter": {
   "hash": "d87320467d95eebbbff257235e25593b7a85f99340967afb18d54479c0228d87"
  },
  "kernelspec": {
   "display_name": "Python 3 (ipykernel)",
   "language": "python",
   "name": "python3"
  },
  "language_info": {
   "codemirror_mode": {
    "name": "ipython",
    "version": 3
   },
   "file_extension": ".py",
   "mimetype": "text/x-python",
   "name": "python",
   "nbconvert_exporter": "python",
   "pygments_lexer": "ipython3",
   "version": "3.9.1"
  }
 },
 "nbformat": 4,
 "nbformat_minor": 5
}
