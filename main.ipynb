{
 "cells": [
  {
   "cell_type": "code",
   "execution_count": 2,
   "id": "a39958c2",
   "metadata": {},
   "outputs": [
    {
     "name": "stdout",
     "output_type": "stream",
     "text": [
      "INFO:tensorflow:Enabling eager execution\n",
      "INFO:tensorflow:Enabling v2 tensorshape\n",
      "INFO:tensorflow:Enabling resource variables\n",
      "INFO:tensorflow:Enabling tensor equality\n",
      "INFO:tensorflow:Enabling control flow v2\n"
     ]
    }
   ],
   "source": [
    "import numpy as np\n",
    "from keras.datasets import mnist"
   ]
  },
  {
   "cell_type": "code",
   "execution_count": 3,
   "id": "0b5f77e6",
   "metadata": {},
   "outputs": [],
   "source": [
    "(x_train, y_train), (x_test, y_test) = mnist.load_data()"
   ]
  },
  {
   "cell_type": "code",
   "execution_count": 4,
   "id": "c850f336",
   "metadata": {},
   "outputs": [
    {
     "data": {
      "text/plain": [
       "(60000, 28, 28)"
      ]
     },
     "execution_count": 4,
     "metadata": {},
     "output_type": "execute_result"
    }
   ],
   "source": [
    "x_train.shape"
   ]
  },
  {
   "cell_type": "code",
   "execution_count": 5,
   "id": "6b2ee918",
   "metadata": {},
   "outputs": [],
   "source": [
    "images = x_train[:10000].reshape(10000, 28*28)\n",
    "labels = y_train[0:10000].reshape(10000,1)"
   ]
  },
  {
   "cell_type": "code",
   "execution_count": 6,
   "id": "87f8bde0",
   "metadata": {},
   "outputs": [],
   "source": [
    "def preparing_data(X):\n",
    "    mean_x = np.mean(X)\n",
    "    std = np.sum(X**2)/(X.shape[0]-1)\n",
    "    return (X - mean_x)/std"
   ]
  },
  {
   "cell_type": "code",
   "execution_count": 7,
   "id": "c26b11e6",
   "metadata": {},
   "outputs": [],
   "source": [
    "images = preparing_data(images)"
   ]
  },
  {
   "cell_type": "code",
   "execution_count": 8,
   "id": "720d4664",
   "metadata": {},
   "outputs": [],
   "source": [
    "from neural_network import NeuralNetwork"
   ]
  },
  {
   "cell_type": "code",
   "execution_count": 23,
   "id": "e5fc2c55",
   "metadata": {},
   "outputs": [],
   "source": [
    "def fit(nn:NeuralNetwork, X_train, y_train, epochs, batch_size, learing_rate):\n",
    "    loss = 0\n",
    "    for it in range(epochs):\n",
    "        batch_indexes = np.random.randint(0, X_train.shape[0], batch_size)\n",
    "        batch_X = X_train[batch_indexes]\n",
    "        batch_y = y_train[batch_indexes]\n",
    "        output = nn.forward(batch_X)\n",
    "        prediction = nn.softmax(output)\n",
    "        loss = nn.CrossEntropyLoss(prediction, batch_y)\n",
    "        nn.backward(learing_rate)\n",
    "    return loss"
   ]
  },
  {
   "cell_type": "code",
   "execution_count": 24,
   "id": "2b3f6186",
   "metadata": {},
   "outputs": [],
   "source": [
    "count_of_features = images.shape[1]\n",
    "count_classes = 10"
   ]
  },
  {
   "cell_type": "code",
   "execution_count": 38,
   "id": "abce624f",
   "metadata": {},
   "outputs": [],
   "source": [
    "params = {'epochs':range(100,501,100), 'batch_size':range(100,501,100)}\n",
    "learing_rate = 1e-2"
   ]
  },
  {
   "cell_type": "code",
   "execution_count": 45,
   "id": "f1e67a82",
   "metadata": {},
   "outputs": [
    {
     "name": "stdout",
     "output_type": "stream",
     "text": [
      "epochs: 100 batch_size: 100 loss 0.2766492063386447 accuracy: 0.895\n",
      "epochs: 100 batch_size: 200 loss 0.21612530298869156 accuracy: 0.9\n",
      "epochs: 100 batch_size: 300 loss 0.10238691694076278 accuracy: 0.916\n",
      "epochs: 100 batch_size: 400 loss nan accuracy: 0.101\n",
      "epochs: 100 batch_size: 500 loss 0.1304527662667365 accuracy: 0.908\n",
      "epochs: 200 batch_size: 100 loss 0.1492115994842655 accuracy: 0.915\n",
      "epochs: 200 batch_size: 200 loss 0.028210187557656124 accuracy: 0.924\n",
      "epochs: 200 batch_size: 300 loss 0.07226845537367318 accuracy: 0.934\n",
      "epochs: 200 batch_size: 400 loss 0.02250999983010468 accuracy: 0.919\n"
     ]
    },
    {
     "name": "stderr",
     "output_type": "stream",
     "text": [
      "C:\\Users\\zanzi\\Desktop\\Python\\Mnist_training\\neural_network.py:23: RuntimeWarning: invalid value encountered in multiply\n",
      "  grad_X = (output_grad*(self.HeavySide(self.output))).dot(self.W.T)\n",
      "C:\\Users\\zanzi\\Desktop\\Python\\Mnist_training\\neural_network.py:24: RuntimeWarning: invalid value encountered in multiply\n",
      "  grad_W = self.X.T.dot(output_grad * self.HeavySide(self.output))\n"
     ]
    },
    {
     "name": "stdout",
     "output_type": "stream",
     "text": [
      "epochs: 200 batch_size: 500 loss nan accuracy: 0.101\n",
      "epochs: 300 batch_size: 100 loss 0.03946656296688626 accuracy: 0.92\n",
      "epochs: 300 batch_size: 200 loss 0.0408268299669178 accuracy: 0.92\n",
      "epochs: 300 batch_size: 300 loss 0.018476197209085245 accuracy: 0.939\n",
      "epochs: 300 batch_size: 400 loss 0.023920076327174106 accuracy: 0.937\n",
      "epochs: 300 batch_size: 500 loss 0.011068029986263692 accuracy: 0.926\n",
      "epochs: 400 batch_size: 100 loss 0.025151734753932457 accuracy: 0.91\n",
      "epochs: 400 batch_size: 200 loss 0.013906880347171031 accuracy: 0.933\n",
      "epochs: 400 batch_size: 300 loss 0.012741605779973934 accuracy: 0.931\n",
      "epochs: 400 batch_size: 400 loss 0.01219096535276263 accuracy: 0.917\n",
      "epochs: 400 batch_size: 500 loss 0.010177481861426642 accuracy: 0.921\n",
      "epochs: 500 batch_size: 100 loss 0.01355653067650948 accuracy: 0.918\n",
      "epochs: 500 batch_size: 200 loss 0.01121183603313293 accuracy: 0.923\n",
      "epochs: 500 batch_size: 300 loss 0.009893622122045753 accuracy: 0.935\n",
      "epochs: 500 batch_size: 400 loss 0.006617664451642311 accuracy: 0.921\n",
      "epochs: 500 batch_size: 500 loss nan accuracy: 0.112\n"
     ]
    }
   ],
   "source": [
    "max_acc = 0\n",
    "best_params = {'epochs':0, 'batch_size':0}\n",
    "for epochs in params['epochs']:\n",
    "    for batch_size in params['batch_size']:\n",
    "        \n",
    "        nn = NeuralNetwork()\n",
    "        nn.CreateLayerRelu((count_of_features, 1000))\n",
    "        nn.CreateLayerRelu((1000, 500))\n",
    "        nn.CreateLayerLinear((500, count_classes))\n",
    "\n",
    "        val_indexes = np.random.randint(0,10000,1000)\n",
    "        \n",
    "        X_val = images[val_indexes]\n",
    "        y_val = labels[val_indexes]\n",
    "        \n",
    "        X_train = np.delete(images, val_indexes, axis=0)\n",
    "        y_train = np.delete(labels, val_indexes, axis=0)\n",
    "        \n",
    "        loss = fit(nn, X_train, y_train, epochs, batch_size, learing_rate)\n",
    "        output = nn.forward(X_val)\n",
    "        prediction = nn.softmax(output)\n",
    "        prediction = np.argmax(prediction, axis=1).reshape(-1,1)\n",
    "        count_of_rigth = np.sum(prediction == y_val)\n",
    "        accuracy = count_of_rigth / y_val.shape[0]\n",
    "        if accuracy > max_acc:\n",
    "            max_acc = accuracy\n",
    "            best_params['epochs'] = epochs\n",
    "            best_params['batch_size'] = batch_size\n",
    "        print('epochs:', epochs, 'batch_size:', batch_size, 'loss', loss, 'accuracy:', accuracy)"
   ]
  },
  {
   "cell_type": "code",
   "execution_count": 49,
   "id": "bf6fbf51",
   "metadata": {},
   "outputs": [],
   "source": [
    "best_params['learing_rate'] = learing_rate"
   ]
  },
  {
   "cell_type": "code",
   "execution_count": 53,
   "id": "27b56ba9",
   "metadata": {},
   "outputs": [
    {
     "data": {
      "text/plain": [
       "0.02782727386229502"
      ]
     },
     "execution_count": 53,
     "metadata": {},
     "output_type": "execute_result"
    }
   ],
   "source": [
    "nn = NeuralNetwork()\n",
    "nn.CreateLayerRelu((count_of_features, 1000))\n",
    "nn.CreateLayerRelu((1000, 500))\n",
    "nn.CreateLayerLinear((500, count_classes))\n",
    "fit(nn, images, labels, **best_params)"
   ]
  },
  {
   "cell_type": "code",
   "execution_count": 54,
   "id": "10851a08",
   "metadata": {},
   "outputs": [],
   "source": [
    "x_test = x_test[:1000].reshape(-1, 28*28)\n",
    "x_test = preparing_data(x_test)"
   ]
  },
  {
   "cell_type": "code",
   "execution_count": 55,
   "id": "9c71f5b9",
   "metadata": {},
   "outputs": [],
   "source": [
    "y_test = y_test[:1000].reshape(-1,1)"
   ]
  },
  {
   "cell_type": "code",
   "execution_count": 56,
   "id": "05231afc",
   "metadata": {},
   "outputs": [],
   "source": [
    "output = nn.forward(x_test)\n",
    "prediction = nn.softmax(output)"
   ]
  },
  {
   "cell_type": "code",
   "execution_count": 57,
   "id": "034c92bf",
   "metadata": {},
   "outputs": [],
   "source": [
    "prediction = np.argmax(prediction, axis=1)"
   ]
  },
  {
   "cell_type": "code",
   "execution_count": 58,
   "id": "25349bd4",
   "metadata": {},
   "outputs": [],
   "source": [
    "prediction = prediction.reshape(-1,1)"
   ]
  },
  {
   "cell_type": "code",
   "execution_count": 59,
   "id": "53ebd300",
   "metadata": {},
   "outputs": [],
   "source": [
    "count_of_rigth = np.sum(prediction == y_test)"
   ]
  },
  {
   "cell_type": "code",
   "execution_count": 60,
   "id": "c3d9ba03",
   "metadata": {},
   "outputs": [
    {
     "data": {
      "text/plain": [
       "0.902"
      ]
     },
     "execution_count": 60,
     "metadata": {},
     "output_type": "execute_result"
    }
   ],
   "source": [
    "accuracy = count_of_rigth / y_test.shape[0]\n",
    "accuracy"
   ]
  },
  {
   "cell_type": "markdown",
   "id": "5adba4b7",
   "metadata": {},
   "source": [
    "Получили точность определения правильной цифры 90.2% на тестовых данных при параметрах которые показали лучшую точность на валидационных данных"
   ]
  },
  {
   "cell_type": "code",
   "execution_count": null,
   "id": "992ee212",
   "metadata": {},
   "outputs": [],
   "source": []
  }
 ],
 "metadata": {
  "interpreter": {
   "hash": "d87320467d95eebbbff257235e25593b7a85f99340967afb18d54479c0228d87"
  },
  "kernelspec": {
   "display_name": "Python 3 (ipykernel)",
   "language": "python",
   "name": "python3"
  },
  "language_info": {
   "codemirror_mode": {
    "name": "ipython",
    "version": 3
   },
   "file_extension": ".py",
   "mimetype": "text/x-python",
   "name": "python",
   "nbconvert_exporter": "python",
   "pygments_lexer": "ipython3",
   "version": "3.9.1"
  }
 },
 "nbformat": 4,
 "nbformat_minor": 5
}
