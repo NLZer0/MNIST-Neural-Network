{
 "cells": [
  {
   "cell_type": "code",
   "execution_count": 40,
   "id": "9515c5b6",
   "metadata": {},
   "outputs": [],
   "source": [
    "import numpy as np\n",
    "from keras.datasets import mnist"
   ]
  },
  {
   "cell_type": "code",
   "execution_count": 41,
   "id": "5c157a9f",
   "metadata": {},
   "outputs": [],
   "source": [
    "(x_train, y_train), (x_test, y_test) = mnist.load_data()"
   ]
  },
  {
   "cell_type": "code",
   "execution_count": 42,
   "id": "41eab7d0",
   "metadata": {},
   "outputs": [
    {
     "data": {
      "text/plain": [
       "(60000, 28, 28)"
      ]
     },
     "execution_count": 42,
     "metadata": {},
     "output_type": "execute_result"
    }
   ],
   "source": [
    "x_train.shape"
   ]
  },
  {
   "cell_type": "code",
   "execution_count": 43,
   "id": "b75bf4d8",
   "metadata": {},
   "outputs": [],
   "source": [
    "images = x_train[:10000].reshape(10000, 28*28)\n",
    "labels = y_train[0:10000].reshape(10000,1)"
   ]
  },
  {
   "cell_type": "code",
   "execution_count": 44,
   "id": "676ab4c1",
   "metadata": {},
   "outputs": [],
   "source": [
    "def preparing_data(X):\n",
    "    mean_x = np.mean(X)\n",
    "    std = np.sum(X**2)/(X.shape[0]-1)\n",
    "    return (X - mean_x)/std"
   ]
  },
  {
   "cell_type": "code",
   "execution_count": 45,
   "id": "b2c94923",
   "metadata": {},
   "outputs": [],
   "source": [
    "images = preparing_data(images)"
   ]
  },
  {
   "cell_type": "code",
   "execution_count": 46,
   "id": "576f7129",
   "metadata": {},
   "outputs": [],
   "source": [
    "from neural_network import NeuralNetwork"
   ]
  },
  {
   "cell_type": "code",
   "execution_count": 47,
   "id": "48e7ef8f",
   "metadata": {},
   "outputs": [],
   "source": [
    "def fit(nn:NeuralNetwork, X_train, y_train, epochs, batch_size, learing_rate):\n",
    "    loss = 0\n",
    "    for it in range(epochs):\n",
    "        batch_indexes = np.random.randint(0, X_train.shape[0], batch_size)\n",
    "        batch_X = X_train[batch_indexes]\n",
    "        batch_y = y_train[batch_indexes]\n",
    "        output = nn.forward(batch_X)\n",
    "        prediction = nn.softmax(output)\n",
    "        loss = nn.CrossEntropyLoss(prediction, batch_y)\n",
    "        nn.backward(learing_rate)\n",
    "    return loss"
   ]
  },
  {
   "cell_type": "code",
   "execution_count": 48,
   "id": "7475d0ab",
   "metadata": {},
   "outputs": [],
   "source": [
    "count_of_features = images.shape[1]\n",
    "count_classes = 10"
   ]
  },
  {
   "cell_type": "code",
   "execution_count": 49,
   "id": "840352d8",
   "metadata": {},
   "outputs": [],
   "source": [
    "cv = 5\n",
    "splited_images_data = np.asarray(np.array_split(images, cv))\n",
    "splited_labels_data = np.asarray(np.array_split(labels, cv))"
   ]
  },
  {
   "cell_type": "code",
   "execution_count": null,
   "id": "73133433",
   "metadata": {},
   "outputs": [],
   "source": [
    "params = {'epochs':range(100,501,100), 'batch_size':(100,501,100)}\n",
    "learing_rate = 1e-2\n",
    "\n",
    "for epochs in params['epochs']:\n",
    "    for batch_size in params['batch_size']:\n",
    "        for i in range(cv):\n",
    "            nn = NeuralNetwork()\n",
    "            nn.CreateLayerRelu((count_of_features, 1000))\n",
    "            nn.CreateLayerRelu((1000, 500))\n",
    "            nn.CreateLayerLinear((500, count_classes))\n",
    "            \n",
    "            X_val = splited_images_data[i]\n",
    "            y_val = splited_labels_data[i]\n",
    "            X_train = np.vstack((splited_images_data[:i], splited_images_data[i+1:]))\n",
    "            y_train = np.vstack((splited_labels_data[:i], splited_labels_data[i+1:]))\n",
    "            \n",
    "            fit(nn, X_train, y_train, epochs, batch_size, learing_rate)\n",
    "            output = nn.forward(X_val)\n",
    "            prediction = nn.softmax(output)\n",
    "            prediction = np.argmax(prediction, axis=1).reshape(-1,1)\n",
    "            count_of_rigth = np.sum(prediction == y_val)\n",
    "            accuracy = count_of_rigth / y_val.shape[0]\n",
    "            \n",
    "            print('epochs:', epochs, 'batch_size:', batch_size,'loss:', loss, 'accuracy:', accuracy)"
   ]
  },
  {
   "cell_type": "code",
   "execution_count": 12,
   "id": "4a8a6663",
   "metadata": {},
   "outputs": [],
   "source": [
    "x_test = x_test[:1000].reshape(-1, 28*28)\n",
    "x_test = preparing_data(x_test)"
   ]
  },
  {
   "cell_type": "code",
   "execution_count": 13,
   "id": "5d4ab5c0",
   "metadata": {},
   "outputs": [],
   "source": [
    "y_test = y_test[:1000].reshape(-1,1)"
   ]
  },
  {
   "cell_type": "code",
   "execution_count": 14,
   "id": "e1c32dad",
   "metadata": {},
   "outputs": [],
   "source": [
    "output = nn.forward(x_test)\n",
    "prediction = nn.softmax(output)"
   ]
  },
  {
   "cell_type": "code",
   "execution_count": 15,
   "id": "2d85570f",
   "metadata": {},
   "outputs": [],
   "source": [
    "prediction = np.argmax(prediction, axis=1)"
   ]
  },
  {
   "cell_type": "code",
   "execution_count": 16,
   "id": "c096679e",
   "metadata": {},
   "outputs": [],
   "source": [
    "prediction = prediction.reshape(-1,1)"
   ]
  },
  {
   "cell_type": "code",
   "execution_count": 17,
   "id": "7a54d318",
   "metadata": {},
   "outputs": [],
   "source": [
    "count_of_rigth = np.sum(prediction == y_test)"
   ]
  },
  {
   "cell_type": "code",
   "execution_count": 18,
   "id": "60c19cf8",
   "metadata": {},
   "outputs": [
    {
     "data": {
      "text/plain": [
       "0.864"
      ]
     },
     "execution_count": 18,
     "metadata": {},
     "output_type": "execute_result"
    }
   ],
   "source": [
    "accuracy = count_of_rigth / y_test.shape[0]\n",
    "accuracy"
   ]
  },
  {
   "cell_type": "markdown",
   "id": "b5cbe824",
   "metadata": {},
   "source": [
    "Получили точность определения правильной цифры 86.8% на тестовых данных\n",
    "Можно попробовать улучшить точность путем подбора оптимальных гиперпараметров с помощью кросс валидации"
   ]
  },
  {
   "cell_type": "code",
   "execution_count": 38,
   "id": "d15a0557",
   "metadata": {},
   "outputs": [
    {
     "name": "stdout",
     "output_type": "stream",
     "text": [
      "[[7 2 6 0]\n",
      " [5 9 7 0]\n",
      " [3 2 4 5]] \n",
      "\n",
      " [[0 2 9 9]\n",
      " [7 7 3 6]]\n"
     ]
    },
    {
     "data": {
      "text/plain": [
       "array([[7, 2, 6, 0],\n",
       "       [5, 9, 7, 0],\n",
       "       [3, 2, 4, 5],\n",
       "       [0, 2, 9, 9],\n",
       "       [7, 7, 3, 6]])"
      ]
     },
     "execution_count": 38,
     "metadata": {},
     "output_type": "execute_result"
    }
   ],
   "source": [
    "arr1 = np.random.randint(0,10,12).reshape(3,4)\n",
    "arr2 = np.random.randint(0,10,8).reshape(2,4)\n",
    "\n",
    "print(arr1, '\\n\\n', arr2)\n",
    "np.vstack((arr1, arr2))\n"
   ]
  },
  {
   "cell_type": "code",
   "execution_count": null,
   "id": "1bbc269a",
   "metadata": {},
   "outputs": [],
   "source": []
  }
 ],
 "metadata": {
  "interpreter": {
   "hash": "d87320467d95eebbbff257235e25593b7a85f99340967afb18d54479c0228d87"
  },
  "kernelspec": {
   "display_name": "Python 3 (ipykernel)",
   "language": "python",
   "name": "python3"
  },
  "language_info": {
   "codemirror_mode": {
    "name": "ipython",
    "version": 3
   },
   "file_extension": ".py",
   "mimetype": "text/x-python",
   "name": "python",
   "nbconvert_exporter": "python",
   "pygments_lexer": "ipython3",
   "version": "3.9.1"
  }
 },
 "nbformat": 4,
 "nbformat_minor": 5
}
